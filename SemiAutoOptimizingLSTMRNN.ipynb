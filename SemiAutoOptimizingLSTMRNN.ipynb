{
 "cells": [
  {
   "cell_type": "code",
   "execution_count": 79,
   "id": "0100d15a",
   "metadata": {},
   "outputs": [],
   "source": [
    "import pandas as pd\n",
    "import numpy as np\n",
    "import itertools\n",
    "from functools import partial\n",
    "from typing import Callable, List"
   ]
  },
  {
   "cell_type": "code",
   "execution_count": 80,
   "id": "3aee8d32",
   "metadata": {},
   "outputs": [],
   "source": [
    "import matplotlib.pyplot as plt\n",
    "import seaborn as sns\n",
    "from ipywidgets import interact, Dropdown"
   ]
  },
  {
   "cell_type": "code",
   "execution_count": 81,
   "id": "bc0a05bb",
   "metadata": {},
   "outputs": [],
   "source": [
    "import statsmodels.api as sm\n",
    "import scipy.stats as stats\n",
    "from scipy.stats import norm\n",
    "from scipy.stats import kstest, expon, lognorm, weibull_min, gamma\n",
    "from scipy.stats.mstats import winsorize\n",
    "from scipy.stats import pearsonr"
   ]
  },
  {
   "cell_type": "code",
   "execution_count": 82,
   "id": "2a776368",
   "metadata": {},
   "outputs": [],
   "source": [
    "from statsmodels.tsa.seasonal import seasonal_decompose"
   ]
  },
  {
   "cell_type": "code",
   "execution_count": 83,
   "id": "d512f464",
   "metadata": {},
   "outputs": [],
   "source": [
    "from sklearn.preprocessing import MinMaxScaler"
   ]
  },
  {
   "cell_type": "code",
   "execution_count": 84,
   "id": "b31cecfa",
   "metadata": {},
   "outputs": [],
   "source": [
    "import tensorflow as tf\n",
    "from sklearn.preprocessing import MinMaxScaler\n",
    "from sklearn.metrics import mean_squared_error\n",
    "from sklearn.model_selection import train_test_split"
   ]
  },
  {
   "cell_type": "code",
   "execution_count": 85,
   "id": "17669fd6",
   "metadata": {},
   "outputs": [],
   "source": [
    "from keras.models import Sequential\n",
    "from tensorflow import keras\n",
    "from tensorflow.keras import callbacks\n",
    "from tensorflow.keras import regularizers\n",
    "from tensorflow.keras.models import Sequential\n",
    "from tensorflow.keras.layers import LSTM, Dense, Dropout\n",
    "from tensorflow.keras.preprocessing.sequence import TimeseriesGenerator\n",
    "from tensorflow.keras.optimizers import Adam\n",
    "from tensorflow.keras.callbacks import EarlyStopping\n",
    "from keras.layers import LSTM, Dense, Dropout\n",
    "from sklearn.metrics import mean_absolute_error\n",
    "from sklearn.model_selection import TimeSeriesSplit\n",
    "from sklearn.model_selection import KFold, StratifiedKFold, LeavePOut\n",
    "from keras import regularizers\n",
    "from sklearn.feature_selection import RFE\n",
    "from sklearn.ensemble import RandomForestRegressor\n",
    "from sklearn.feature_selection import SequentialFeatureSelector\n",
    "from sklearn.ensemble import RandomForestRegressor\n",
    "from keras.preprocessing.sequence import TimeseriesGenerator"
   ]
  },
  {
   "cell_type": "markdown",
   "id": "39ed2313",
   "metadata": {},
   "source": [
    "# Supervised Hybrid Production-Level Long Short Term Memory Recurrent Neural Network:\n",
    "#### _Semi-Automating proccesses for building and optimization_"
   ]
  },
  {
   "cell_type": "markdown",
   "id": "f87e4d75",
   "metadata": {},
   "source": [
    "## Forecasting Absolute Humidity"
   ]
  },
  {
   "cell_type": "markdown",
   "id": "ce0dc683",
   "metadata": {},
   "source": [
    "### Question: Can we predict humidity in San Diego for the next day based on a given humidity, wind speed, wind direction, and pressure for that hour?"
   ]
  },
  {
   "cell_type": "markdown",
   "id": "944f435e",
   "metadata": {},
   "source": [
    "An LSTM (Long Short-Term Memory) is a type of recurrent neural network (RNN) that is designed to handle long-term dependencies in sequential data. It uses a memory cell that can store information for long periods of time and a set of gates to control the flow of information into and out of the cell. The gates are used to selectively forget or remember information based on the input and the current state of the cell. LSTMs have been shown to be effective in a wide range of applications including natural language processing, speech recognition, and time series prediction.\n",
    "The chosen model is a recurrent neural network (RNN) with long short-term memory (LSTM) cells. The reason for this choice is that LSTMs are specifically designed for handling time-series data, which makes them well-suited for forecasting tasks. \n",
    "LSTMs have the ability to learn long-term dependencies in the data, which is important for capturing the patterns and trends that may exist in the time-series data. Additionally, LSTMs are capable of handling sequential data of varying lengths, which is useful for this problem since the number of time steps in the input data may vary. LSTMs are often preferred for time-series forecasting problems due to their ability to capture long-term dependencies and their flexibility in handling sequential data."
   ]
  },
  {
   "cell_type": "markdown",
   "id": "43595174",
   "metadata": {},
   "source": [
    "## 1. Data"
   ]
  },
  {
   "cell_type": "code",
   "execution_count": 86,
   "id": "99bd53f6",
   "metadata": {},
   "outputs": [],
   "source": [
    "city_att= pd.read_csv('C:/Users/calve/Documents/SrPowerSystemsForecasterSpecialist/clean_data/cleaned_cities.csv')"
   ]
  },
  {
   "cell_type": "code",
   "execution_count": 87,
   "id": "55dbbe07",
   "metadata": {},
   "outputs": [],
   "source": [
    "humidity= pd.read_csv('C:/Users/calve/Documents/SrPowerSystemsForecasterSpecialist/clean_data/cleaned_humidity.csv')"
   ]
  },
  {
   "cell_type": "code",
   "execution_count": 88,
   "id": "2a7fc2cb",
   "metadata": {},
   "outputs": [],
   "source": [
    "pressure= pd.read_csv('C:/Users/calve/Documents/SrPowerSystemsForecasterSpecialist/clean_data/cleaned_pressure.csv')"
   ]
  },
  {
   "cell_type": "code",
   "execution_count": 89,
   "id": "e7cc9e53",
   "metadata": {},
   "outputs": [],
   "source": [
    "wind_speed= pd.read_csv('C:/Users/calve/Documents/SrPowerSystemsForecasterSpecialist/clean_data/cleaned_ws.csv')"
   ]
  },
  {
   "cell_type": "code",
   "execution_count": 90,
   "id": "0428c042",
   "metadata": {},
   "outputs": [],
   "source": [
    "wind_dir= pd.read_csv('C:/Users/calve/Documents/SrPowerSystemsForecasterSpecialist/clean_data/cleaned_wr.csv')"
   ]
  },
  {
   "cell_type": "code",
   "execution_count": 91,
   "id": "6927112d",
   "metadata": {},
   "outputs": [],
   "source": [
    "# Rename the columns in the original DataFrames\n",
    "humidity.columns = [f'humidity_{col}' for col in humidity.columns]\n",
    "pressure.columns = [f'pressure_{col}' for col in pressure.columns]\n",
    "wind_dir.columns = [f'wind_dir_{col}' for col in wind_dir.columns]\n",
    "wind_speed.columns = [f'wind_speed_{col}' for col in wind_speed.columns]"
   ]
  },
  {
   "cell_type": "code",
   "execution_count": 92,
   "id": "b5b76983",
   "metadata": {},
   "outputs": [],
   "source": [
    "# Concatenate the DataFrames along the columns axis\n",
    "san_diego_df = pd.concat([humidity[['humidity_datetime']], humidity.drop('humidity_datetime', axis=1), pressure, wind_dir, wind_speed], axis=1)\n",
    "\n",
    "san_diego_columns = ['humidity_datetime'] + [col for col in san_diego_df.columns if 'San Diego' in col]\n",
    "san_diego_df = san_diego_df[san_diego_columns]"
   ]
  },
  {
   "cell_type": "code",
   "execution_count": 93,
   "id": "4dfce15a",
   "metadata": {},
   "outputs": [
    {
     "data": {
      "text/plain": [
       "Index(['humidity_datetime', 'humidity_San Diego', 'pressure_San Diego',\n",
       "       'wind_dir_San Diego', 'wind_speed_San Diego'],\n",
       "      dtype='object')"
      ]
     },
     "execution_count": 93,
     "metadata": {},
     "output_type": "execute_result"
    }
   ],
   "source": [
    "san_diego_df.columns"
   ]
  },
  {
   "cell_type": "code",
   "execution_count": 94,
   "id": "ad0c1156",
   "metadata": {},
   "outputs": [],
   "source": [
    "#Rename the columns\n",
    "san_diego_df= san_diego_df.rename(columns={\"humidity_datetime\": \"datetime\", \"humidity_San Diego\": \"humidity\", \"pressure_San Diego\":\"pressure\", \"wind_dir_San Diego\":\"wind_dir\", \"wind_speed_San Diego\": \"wind_speed\"})"
   ]
  },
  {
   "cell_type": "code",
   "execution_count": 95,
   "id": "f7c49fcb",
   "metadata": {},
   "outputs": [
    {
     "data": {
      "text/plain": [
       "Index(['datetime', 'humidity', 'pressure', 'wind_dir', 'wind_speed'], dtype='object')"
      ]
     },
     "execution_count": 95,
     "metadata": {},
     "output_type": "execute_result"
    }
   ],
   "source": [
    "san_diego_df.columns"
   ]
  },
  {
   "cell_type": "code",
   "execution_count": 96,
   "id": "ea1f4eba",
   "metadata": {},
   "outputs": [],
   "source": [
    "#Extract the hour from the datetime column\n",
    "san_diego_df['hour'] = pd.to_datetime(san_diego_df['datetime']).dt.hour"
   ]
  },
  {
   "cell_type": "code",
   "execution_count": 97,
   "id": "5d46be5e",
   "metadata": {},
   "outputs": [],
   "source": [
    "#Drop datetime\n",
    "san_diego_df.drop(['datetime'], inplace= True, axis= 1)"
   ]
  },
  {
   "cell_type": "code",
   "execution_count": 98,
   "id": "59daeaa5",
   "metadata": {},
   "outputs": [
    {
     "data": {
      "text/html": [
       "<div>\n",
       "<style scoped>\n",
       "    .dataframe tbody tr th:only-of-type {\n",
       "        vertical-align: middle;\n",
       "    }\n",
       "\n",
       "    .dataframe tbody tr th {\n",
       "        vertical-align: top;\n",
       "    }\n",
       "\n",
       "    .dataframe thead th {\n",
       "        text-align: right;\n",
       "    }\n",
       "</style>\n",
       "<table border=\"1\" class=\"dataframe\">\n",
       "  <thead>\n",
       "    <tr style=\"text-align: right;\">\n",
       "      <th></th>\n",
       "      <th>humidity</th>\n",
       "      <th>pressure</th>\n",
       "      <th>wind_dir</th>\n",
       "      <th>wind_speed</th>\n",
       "      <th>hour</th>\n",
       "    </tr>\n",
       "  </thead>\n",
       "  <tbody>\n",
       "    <tr>\n",
       "      <th>0</th>\n",
       "      <td>82.0</td>\n",
       "      <td>1013.0</td>\n",
       "      <td>0.0</td>\n",
       "      <td>0.0</td>\n",
       "      <td>13</td>\n",
       "    </tr>\n",
       "    <tr>\n",
       "      <th>1</th>\n",
       "      <td>81.0</td>\n",
       "      <td>1013.0</td>\n",
       "      <td>0.0</td>\n",
       "      <td>0.0</td>\n",
       "      <td>14</td>\n",
       "    </tr>\n",
       "    <tr>\n",
       "      <th>2</th>\n",
       "      <td>81.0</td>\n",
       "      <td>1013.0</td>\n",
       "      <td>0.0</td>\n",
       "      <td>0.0</td>\n",
       "      <td>15</td>\n",
       "    </tr>\n",
       "    <tr>\n",
       "      <th>3</th>\n",
       "      <td>81.0</td>\n",
       "      <td>1013.0</td>\n",
       "      <td>0.0</td>\n",
       "      <td>0.0</td>\n",
       "      <td>16</td>\n",
       "    </tr>\n",
       "    <tr>\n",
       "      <th>4</th>\n",
       "      <td>80.0</td>\n",
       "      <td>1013.0</td>\n",
       "      <td>0.0</td>\n",
       "      <td>0.0</td>\n",
       "      <td>17</td>\n",
       "    </tr>\n",
       "    <tr>\n",
       "      <th>...</th>\n",
       "      <td>...</td>\n",
       "      <td>...</td>\n",
       "      <td>...</td>\n",
       "      <td>...</td>\n",
       "      <td>...</td>\n",
       "    </tr>\n",
       "    <tr>\n",
       "      <th>44455</th>\n",
       "      <td>60.0</td>\n",
       "      <td>1015.0</td>\n",
       "      <td>320.0</td>\n",
       "      <td>3.0</td>\n",
       "      <td>20</td>\n",
       "    </tr>\n",
       "    <tr>\n",
       "      <th>44456</th>\n",
       "      <td>64.0</td>\n",
       "      <td>1013.0</td>\n",
       "      <td>300.0</td>\n",
       "      <td>3.0</td>\n",
       "      <td>21</td>\n",
       "    </tr>\n",
       "    <tr>\n",
       "      <th>44457</th>\n",
       "      <td>60.0</td>\n",
       "      <td>1013.0</td>\n",
       "      <td>330.0</td>\n",
       "      <td>3.0</td>\n",
       "      <td>22</td>\n",
       "    </tr>\n",
       "    <tr>\n",
       "      <th>44458</th>\n",
       "      <td>44.0</td>\n",
       "      <td>1012.0</td>\n",
       "      <td>300.0</td>\n",
       "      <td>4.0</td>\n",
       "      <td>23</td>\n",
       "    </tr>\n",
       "    <tr>\n",
       "      <th>44459</th>\n",
       "      <td>57.0</td>\n",
       "      <td>1011.0</td>\n",
       "      <td>300.0</td>\n",
       "      <td>3.0</td>\n",
       "      <td>0</td>\n",
       "    </tr>\n",
       "  </tbody>\n",
       "</table>\n",
       "<p>44460 rows × 5 columns</p>\n",
       "</div>"
      ],
      "text/plain": [
       "       humidity  pressure  wind_dir  wind_speed  hour\n",
       "0          82.0    1013.0       0.0         0.0    13\n",
       "1          81.0    1013.0       0.0         0.0    14\n",
       "2          81.0    1013.0       0.0         0.0    15\n",
       "3          81.0    1013.0       0.0         0.0    16\n",
       "4          80.0    1013.0       0.0         0.0    17\n",
       "...         ...       ...       ...         ...   ...\n",
       "44455      60.0    1015.0     320.0         3.0    20\n",
       "44456      64.0    1013.0     300.0         3.0    21\n",
       "44457      60.0    1013.0     330.0         3.0    22\n",
       "44458      44.0    1012.0     300.0         4.0    23\n",
       "44459      57.0    1011.0     300.0         3.0     0\n",
       "\n",
       "[44460 rows x 5 columns]"
      ]
     },
     "execution_count": 98,
     "metadata": {},
     "output_type": "execute_result"
    }
   ],
   "source": [
    "san_diego_df"
   ]
  },
  {
   "cell_type": "code",
   "execution_count": 99,
   "id": "6738ccec",
   "metadata": {},
   "outputs": [],
   "source": [
    "#Determine Distribution"
   ]
  },
  {
   "cell_type": "code",
   "execution_count": 100,
   "id": "c026c1e1",
   "metadata": {
    "scrolled": false
   },
   "outputs": [
    {
     "data": {
      "image/png": "[encoded data removed]",
      "text/plain": [
       "<Figure size 640x480 with 1 Axes>"
      ]
     },
     "metadata": {},
     "output_type": "display_data"
    },
    {
     "data": {
      "image/png": "[encoded data removed]",
      "text/plain": [
       "<Figure size 640x480 with 1 Axes>"
      ]
     },
     "metadata": {},
     "output_type": "display_data"
    },
    {
     "data": {
      "image/png": "[encoded data removed]",
      "text/plain": [
       "<Figure size 640x480 with 1 Axes>"
      ]
     },
     "metadata": {},
     "output_type": "display_data"
    },
    {
     "data": {
      "image/png": "[encoded data removed]",
      "text/plain": [
       "<Figure size 640x480 with 1 Axes>"
      ]
     },
     "metadata": {},
     "output_type": "display_data"
    }
   ],
   "source": [
    "#Plotting the data with histograms to see patterns\n",
    "weather_elements = ['humidity', 'pressure', 'wind_speed', 'wind_dir']\n",
    "for element in weather_elements:\n",
    "    plt.figure()\n",
    "    sns.histplot(data=san_diego_df, x=element, kde=True)\n",
    "    plt.title(f'Histogram of {element}')\n",
    "    plt.show()"
   ]
  },
  {
   "cell_type": "code",
   "execution_count": 101,
   "id": "d9df6e84",
   "metadata": {},
   "outputs": [
    {
     "name": "stdout",
     "output_type": "stream",
     "text": [
      "humidity: Mean=67.74769363283995, Median=71.0, Standard Deviation=19.445948262825503\n",
      "pressure: Mean=1017.5459061554442, Median=1017.0, Standard Deviation=8.622522074894706\n",
      "wind_speed: Mean=1.7515969410706254, Median=1.0, Standard Deviation=1.4918345918914822\n",
      "wind_dir: Mean=199.21417004048584, Median=230.0, Standard Deviation=106.13016777543389\n"
     ]
    }
   ],
   "source": [
    "#Calcutlating statistics for the columns to examine outliers and distribution\n",
    "for element in weather_elements:\n",
    "    mean = san_diego_df[element].mean()\n",
    "    median = san_diego_df[element].median()\n",
    "    std_dev = san_diego_df[element].std()\n",
    "    print(f'{element}: Mean={mean}, Median={median}, Standard Deviation={std_dev}')"
   ]
  },
  {
   "cell_type": "code",
   "execution_count": 102,
   "id": "243ad1e2",
   "metadata": {
    "scrolled": false
   },
   "outputs": [
    {
     "data": {
      "text/plain": [
       "<Figure size 640x480 with 0 Axes>"
      ]
     },
     "metadata": {},
     "output_type": "display_data"
    },
    {
     "data": {
      "image/png": "[encoded data removed]",
      "text/plain": [
       "<Figure size 640x480 with 1 Axes>"
      ]
     },
     "metadata": {},
     "output_type": "display_data"
    },
    {
     "data": {
      "text/plain": [
       "<Figure size 640x480 with 0 Axes>"
      ]
     },
     "metadata": {},
     "output_type": "display_data"
    },
    {
     "data": {
      "image/png": "[encoded data removed]",
      "text/plain": [
       "<Figure size 640x480 with 1 Axes>"
      ]
     },
     "metadata": {},
     "output_type": "display_data"
    },
    {
     "data": {
      "text/plain": [
       "<Figure size 640x480 with 0 Axes>"
      ]
     },
     "metadata": {},
     "output_type": "display_data"
    },
    {
     "data": {
      "image/png": "[encoded data removed]",
      "text/plain": [
       "<Figure size 640x480 with 1 Axes>"
      ]
     },
     "metadata": {},
     "output_type": "display_data"
    },
    {
     "data": {
      "text/plain": [
       "<Figure size 640x480 with 0 Axes>"
      ]
     },
     "metadata": {},
     "output_type": "display_data"
    },
    {
     "data": {
      "image/png": "[encoded data removed]",
      "text/plain": [
       "<Figure size 640x480 with 1 Axes>"
      ]
     },
     "metadata": {},
     "output_type": "display_data"
    },
    {
     "data": {
      "text/plain": [
       "<Figure size 640x480 with 0 Axes>"
      ]
     },
     "metadata": {},
     "output_type": "display_data"
    },
    {
     "data": {
      "image/png": "[encoded data removed]",
      "text/plain": [
       "<Figure size 640x480 with 1 Axes>"
      ]
     },
     "metadata": {},
     "output_type": "display_data"
    }
   ],
   "source": [
    "#QQ Plots to investigate distribution further\n",
    "for element in san_diego_df:\n",
    "    plt.figure()\n",
    "    sm.qqplot(san_diego_df[element], line='s')\n",
    "    plt.title(f'Q-Q Plot for {element}')\n",
    "    plt.show()"
   ]
  },
  {
   "cell_type": "code",
   "execution_count": 103,
   "id": "546bfdc6",
   "metadata": {},
   "outputs": [
    {
     "data": {
      "text/plain": [
       "'The purpose of the quantile-quantile (QQ) plot is to show if two data sets come from the same distribution.- Yunsi Wang, Tyler Steele, Eva Zhang\\nhttps://math.illinois.edu/system/files/inline-files/Proj9AY1516-report2.pdf'"
      ]
     },
     "execution_count": 103,
     "metadata": {},
     "output_type": "execute_result"
    }
   ],
   "source": [
    "'''The purpose of the quantile-quantile (QQ) plot is to show if two data sets come from the same distribution.- Yunsi Wang, Tyler Steele, Eva Zhang\n",
    "https://math.illinois.edu/system/files/inline-files/Proj9AY1516-report2.pdf'''"
   ]
  },
  {
   "cell_type": "code",
   "execution_count": 104,
   "id": "485f310b",
   "metadata": {},
   "outputs": [
    {
     "name": "stdout",
     "output_type": "stream",
     "text": [
      "humidity distribution:\n",
      "normal: D=0.07225708153364296, p-value=9.521463621270879e-201\n",
      "exponential: D=0.3549962526547573, p-value=0.0\n",
      "logistic: D=0.0565723130142094, p-value=3.622505804104062e-123\n",
      "\n",
      "pressure distribution:\n",
      "normal: D=0.14996863978091823, p-value=0.0\n",
      "exponential: D=0.5242211365851986, p-value=0.0\n",
      "logistic: D=0.09150311488892317, p-value=0.0\n",
      "\n",
      "wind_speed distribution:\n",
      "normal: D=0.26540812964324156, p-value=0.0\n",
      "exponential: D=0.2836830540579809, p-value=0.0\n",
      "logistic: D=0.24111324355792074, p-value=0.0\n",
      "\n",
      "wind_dir distribution:\n",
      "normal: D=0.13003959649634, p-value=0.0\n",
      "exponential: D=0.22719236582053187, p-value=0.0\n",
      "logistic: D=0.10435693010217906, p-value=0.0\n",
      "\n"
     ]
    }
   ],
   "source": [
    "#Creating a function to use statistcal tests to determine distribution\n",
    "weather_elements = ['humidity', 'pressure', 'wind_speed', 'wind_dir']\n",
    "\n",
    "san_diego_df = san_diego_df.applymap(lambda x: x if np.isfinite(x) else np.nan)\n",
    "\n",
    "def test_distributions(series):\n",
    "    \n",
    "    \n",
    "    series = series[np.isfinite(series)]\n",
    "    \n",
    "    distributions = {\n",
    "        \"normal\": stats.norm,\n",
    "        \"exponential\": stats.expon,\n",
    "        \"logistic\": stats.logistic\n",
    "    }\n",
    "    \n",
    "    results = {}\n",
    "    for dist_name, dist in distributions.items():\n",
    "        params = dist.fit(series)\n",
    "        D, p = stats.kstest(series, dist.cdf, args=params)\n",
    "        results[dist_name] = (D, p)\n",
    "    \n",
    "    return results\n",
    "\n",
    "for element in weather_elements:\n",
    "    print(f\"{element} distribution:\")\n",
    "    results = test_distributions(san_diego_df[element])\n",
    "    for dist_name, (D, p) in results.items():\n",
    "        print(f\"{dist_name}: D={D}, p-value={p}\")\n",
    "    print()"
   ]
  },
  {
   "cell_type": "code",
   "execution_count": 105,
   "id": "558c7c63",
   "metadata": {},
   "outputs": [],
   "source": [
    "#Asid from obviously hour, there doesn't seem to be any pattern of distribution that I can identify at the moment"
   ]
  },
  {
   "cell_type": "markdown",
   "id": "f1849981",
   "metadata": {},
   "source": [
    "## 2. Feature Engineering and Preprocessing:"
   ]
  },
  {
   "cell_type": "code",
   "execution_count": 106,
   "id": "7f3af92c",
   "metadata": {},
   "outputs": [
    {
     "data": {
      "text/plain": [
       "353"
      ]
     },
     "execution_count": 106,
     "metadata": {},
     "output_type": "execute_result"
    }
   ],
   "source": [
    "san_diego_df.isnull().any(axis=1).sum()"
   ]
  },
  {
   "cell_type": "code",
   "execution_count": 107,
   "id": "840c17a5",
   "metadata": {},
   "outputs": [],
   "source": [
    "#Dropping Nulls\n",
    "san_diego_df = san_diego_df.dropna() "
   ]
  },
  {
   "cell_type": "code",
   "execution_count": 108,
   "id": "2e5a8411",
   "metadata": {},
   "outputs": [
    {
     "data": {
      "text/plain": [
       "(44107, 5)"
      ]
     },
     "execution_count": 108,
     "metadata": {},
     "output_type": "execute_result"
    }
   ],
   "source": [
    "san_diego_df.shape"
   ]
  },
  {
   "cell_type": "code",
   "execution_count": 109,
   "id": "d372c96e",
   "metadata": {},
   "outputs": [],
   "source": [
    "#Making a column for my target\n",
    "san_diego_df['next_day_humidity'] = san_diego_df['humidity'].shift(-24)"
   ]
  },
  {
   "cell_type": "code",
   "execution_count": 110,
   "id": "a610e29e",
   "metadata": {},
   "outputs": [
    {
     "data": {
      "text/plain": [
       "Index(['humidity', 'pressure', 'wind_dir', 'wind_speed', 'hour',\n",
       "       'next_day_humidity'],\n",
       "      dtype='object')"
      ]
     },
     "execution_count": 110,
     "metadata": {},
     "output_type": "execute_result"
    }
   ],
   "source": [
    "san_diego_df.columns"
   ]
  },
  {
   "cell_type": "code",
   "execution_count": 111,
   "id": "e08ef43f",
   "metadata": {},
   "outputs": [],
   "source": [
    "#Identifying and quantifying outliers"
   ]
  },
  {
   "cell_type": "code",
   "execution_count": 112,
   "id": "3a6c29c2",
   "metadata": {},
   "outputs": [],
   "source": [
    "def detect_outliers_zscore(df, threshold=3):\n",
    "    outliers = pd.DataFrame()\n",
    "    for col in df.columns:\n",
    "        z_scores = np.abs((df[col] - df[col].mean()) / df[col].std())\n",
    "        outliers_col = df[z_scores > threshold][col]\n",
    "        outliers_col.name = col\n",
    "        outliers = pd.concat([outliers, outliers_col], axis=1)\n",
    "    return outliers"
   ]
  },
  {
   "cell_type": "code",
   "execution_count": 113,
   "id": "ee219bc9",
   "metadata": {},
   "outputs": [],
   "source": [
    "def get_outlier_list(df, threshold):\n",
    "    outlier_list = {}\n",
    "    outlier = detect_outliers_zscore(df, threshold)\n",
    "    for col in outlier.columns:\n",
    "        non_null_mask = outlier[col].notnull()\n",
    "        if non_null_mask.any():\n",
    "            outlier_list[col] = outlier.loc[non_null_mask, col].values.tolist()\n",
    "    \n",
    "    return outlier_list"
   ]
  },
  {
   "cell_type": "code",
   "execution_count": 114,
   "id": "276ddc6e",
   "metadata": {},
   "outputs": [],
   "source": [
    "outliers= get_outlier_list(san_diego_df, threshold= 3)"
   ]
  },
  {
   "cell_type": "code",
   "execution_count": 115,
   "id": "bde2949f",
   "metadata": {},
   "outputs": [
    {
     "name": "stdout",
     "output_type": "stream",
     "text": [
      "humidity: 113\n",
      "pressure: 1127\n",
      "wind_speed: 363\n",
      "next_day_humidity: 113\n"
     ]
    }
   ],
   "source": [
    "for element, values in outliers.items():\n",
    "    print(f\"{element}: {len(values)}\")"
   ]
  },
  {
   "cell_type": "code",
   "execution_count": 116,
   "id": "8c111d8c",
   "metadata": {},
   "outputs": [],
   "source": [
    "#A small amount of outliers for the given data set- moderation is not necessary"
   ]
  },
  {
   "cell_type": "markdown",
   "id": "b41b1863",
   "metadata": {},
   "source": [
    "Applying the Winsorize method to moderate outliers as a display of proficiency in selecting and applying statistical models and best data practices\n",
    "Reasons for Selection: \n",
    "1. No normal distribution \n",
    "2. To maintain data integrity by only removing the extreme outliers- Extreme outliers might indicate faulty data\n",
    "\n",
    "https://www.statisticshowto.com/winsorize/"
   ]
  },
  {
   "cell_type": "code",
   "execution_count": 117,
   "id": "4508d9fe",
   "metadata": {},
   "outputs": [],
   "source": [
    "#Defining percentile to drop\n",
    "percentiles = [0.01, 0.99]"
   ]
  },
  {
   "cell_type": "code",
   "execution_count": 118,
   "id": "21219b6f",
   "metadata": {},
   "outputs": [],
   "source": [
    "#Iterating the method over each feature\n",
    "for col in weather_elements:\n",
    "    san_diego_df[col] = winsorize(san_diego_df[col], limits=percentiles)"
   ]
  },
  {
   "cell_type": "code",
   "execution_count": 119,
   "id": "5f1afce6",
   "metadata": {},
   "outputs": [],
   "source": [
    "#Encoding catergorical variables"
   ]
  },
  {
   "cell_type": "code",
   "execution_count": 120,
   "id": "28f258a2",
   "metadata": {},
   "outputs": [],
   "source": [
    "# Circular encoding for wind direction\n",
    "san_diego_df['wind_dir_sin'] = np.sin(2*np.pi*san_diego_df['wind_dir']/360)\n",
    "san_diego_df['wind_dir_cos'] = np.cos(2*np.pi*san_diego_df['wind_dir']/360)"
   ]
  },
  {
   "cell_type": "code",
   "execution_count": 121,
   "id": "8628f163",
   "metadata": {},
   "outputs": [],
   "source": [
    "# Drop the original wind_direction column\n",
    "san_diego_df.drop('wind_dir', axis=1, inplace=True)"
   ]
  },
  {
   "cell_type": "code",
   "execution_count": 122,
   "id": "fec7d68e",
   "metadata": {},
   "outputs": [],
   "source": [
    "#One Hot Encoding 'hour'\n",
    "#Get the dummies for hour\n",
    "one_hot = pd.get_dummies(san_diego_df[\"hour\"], prefix=\"hour\")\n",
    "#Concat the dummy column\n",
    "san_diego_df = pd.concat([san_diego_df, one_hot], axis=1)"
   ]
  },
  {
   "cell_type": "code",
   "execution_count": 123,
   "id": "a1decf55",
   "metadata": {},
   "outputs": [],
   "source": [
    "#Dropping original hour\n",
    "san_diego_df.drop(\"hour\", axis=1, inplace=True)"
   ]
  },
  {
   "cell_type": "code",
   "execution_count": 124,
   "id": "131a95ec",
   "metadata": {},
   "outputs": [],
   "source": [
    "#Engineering Features"
   ]
  },
  {
   "cell_type": "code",
   "execution_count": 139,
   "id": "1abfd0a8",
   "metadata": {},
   "outputs": [],
   "source": [
    "#Capturing the temporal relationship between the current and previous hour's humidity values\n",
    "san_diego_df['prev_hour_humidity'] = san_diego_df['humidity'].shift(1)"
   ]
  },
  {
   "cell_type": "markdown",
   "id": "dfb4aca1",
   "metadata": {},
   "source": [
    "seasonal_decompose() is a function from the statsmodels library that decomposes a time series into its trend, seasonality, and residual components. The resulting components can help identify patterns and relationships in the time series data that may not be easily observable in the raw data"
   ]
  },
  {
   "cell_type": "code",
   "execution_count": 126,
   "id": "b601b11f",
   "metadata": {},
   "outputs": [],
   "source": [
    "result = seasonal_decompose(san_diego_df['humidity'], model='additive', period=24)"
   ]
  },
  {
   "cell_type": "code",
   "execution_count": 127,
   "id": "dd7cfabd",
   "metadata": {},
   "outputs": [],
   "source": [
    "#long-term trend in the humidity data\n",
    "san_diego_df['humidity_trend'] = result.trend\n",
    "#recurring seasonal patterns\n",
    "san_diego_df['humidity_seasonality'] = result.seasonal\n",
    "# unexplained variance or randomness\n",
    "san_diego_df['humidity_residual'] = result.resid"
   ]
  },
  {
   "cell_type": "code",
   "execution_count": 128,
   "id": "76cd53e7",
   "metadata": {},
   "outputs": [
    {
     "data": {
      "text/plain": [
       "Index(['humidity', 'pressure', 'wind_speed', 'next_day_humidity',\n",
       "       'wind_dir_sin', 'wind_dir_cos', 'hour_0', 'hour_1', 'hour_2', 'hour_3',\n",
       "       'hour_4', 'hour_5', 'hour_6', 'hour_7', 'hour_8', 'hour_9', 'hour_10',\n",
       "       'hour_11', 'hour_12', 'hour_13', 'hour_14', 'hour_15', 'hour_16',\n",
       "       'hour_17', 'hour_18', 'hour_19', 'hour_20', 'hour_21', 'hour_22',\n",
       "       'hour_23', 'prev_hour_humidity', 'humidity_trend',\n",
       "       'humidity_seasonality', 'humidity_residual'],\n",
       "      dtype='object')"
      ]
     },
     "execution_count": 128,
     "metadata": {},
     "output_type": "execute_result"
    }
   ],
   "source": [
    "san_diego_df.columns"
   ]
  },
  {
   "cell_type": "code",
   "execution_count": 130,
   "id": "9d4e4db2",
   "metadata": {},
   "outputs": [],
   "source": [
    "#Seperating Features and Target into X and y\n",
    "X = san_diego_df.drop('next_day_humidity', axis=1)\n",
    "y = san_diego_df[['next_day_humidity']]"
   ]
  },
  {
   "cell_type": "code",
   "execution_count": 131,
   "id": "f468faf4",
   "metadata": {},
   "outputs": [],
   "source": [
    "#Initializing Scaler\n",
    "scaler = MinMaxScaler() #Min Max chosen due to limited outliers"
   ]
  },
  {
   "cell_type": "code",
   "execution_count": 132,
   "id": "35ae3591",
   "metadata": {},
   "outputs": [],
   "source": [
    "#Transforming our Features\n",
    "X_scaled = scaler.fit_transform(X)"
   ]
  },
  {
   "cell_type": "markdown",
   "id": "4a539855",
   "metadata": {},
   "source": [
    "## 3. Model Building:"
   ]
  },
  {
   "cell_type": "markdown",
   "id": "9090efc0",
   "metadata": {},
   "source": [
    "### Semi-Automatically Determing the Best Build"
   ]
  },
  {
   "cell_type": "markdown",
   "id": "2cdef3bb",
   "metadata": {},
   "source": [
    "### Starting from here the the _Manually Assigning Values_ section the order of the cells were altered for readability and presentation purposes. Execution order is indicated in the upper right corner of the cell containing the code."
   ]
  },
  {
   "cell_type": "markdown",
   "id": "f8198ed4",
   "metadata": {},
   "source": [
    "#### build(X, y, hyperparameters_list, cv_methods, input_steps, output_steps, feature_selection_funcs=feature_selection_funcs(), metric=calculate_metric):\n",
    "  \n",
    "Arguments:\n",
    "\n",
    "* X: numpy array, input features of shape (n_samples, n_features).\n",
    "* y: numpy array, output targets of shape (n_samples,).\n",
    "* hyperparameters_list: list of dictionaries, each containing hyperparameters for the LSTM model.\n",
    "* cv_methods: dictionary, containing cross-validation methods to use.\n",
    "input_steps: int, number of input steps for LSTM.\n",
    "output_steps: int, number of output steps for LSTM.\n",
    "feature_selection_funcs: list of functions, each function performs a different feature selection technique.\n",
    "metric: function, evaluation metric for the model.\n",
    "\n",
    "Returns:\n",
    "* best_feature_selection: function, best feature selection technique.\n",
    "* best_mae: float, mean absolute error of the best model.\n",
    "* best_cv_method: string, name of the cross-validation method used for the best model.\n",
    "* best_model: keras Sequential model, the best LSTM model.\n",
    "* best_history: keras History object, training history of the best model.\n",
    "* best_hyperparams: dictionary, hyperparameters for the best model."
   ]
  },
  {
   "cell_type": "code",
   "execution_count": 141,
   "id": "5b0ff3eb",
   "metadata": {},
   "outputs": [
    {
     "ename": "NameError",
     "evalue": "name 'feature_selection_funcs' is not defined",
     "output_type": "error",
     "traceback": [
      "\u001b[1;31m---------------------------------------------------------------------------\u001b[0m",
      "\u001b[1;31mNameError\u001b[0m                                 Traceback (most recent call last)",
      "\u001b[1;32m~\\AppData\\Local\\Temp\\ipykernel_3256\\3801731720.py\u001b[0m in \u001b[0;36m<module>\u001b[1;34m\u001b[0m\n\u001b[1;32m----> 1\u001b[1;33m \u001b[1;32mdef\u001b[0m \u001b[0mbuild\u001b[0m\u001b[1;33m(\u001b[0m\u001b[0mX\u001b[0m\u001b[1;33m,\u001b[0m \u001b[0my\u001b[0m\u001b[1;33m,\u001b[0m \u001b[0mhyperparameters_list\u001b[0m\u001b[1;33m,\u001b[0m \u001b[0mcv_methods\u001b[0m\u001b[1;33m,\u001b[0m \u001b[0minput_steps\u001b[0m\u001b[1;33m,\u001b[0m \u001b[0moutput_steps\u001b[0m\u001b[1;33m,\u001b[0m \u001b[0mfeature_selection_funcs\u001b[0m\u001b[1;33m=\u001b[0m\u001b[0mfeature_selection_funcs\u001b[0m\u001b[1;33m(\u001b[0m\u001b[1;33m)\u001b[0m\u001b[1;33m,\u001b[0m \u001b[0mmetric\u001b[0m\u001b[1;33m=\u001b[0m\u001b[0mcalculate_metric\u001b[0m\u001b[1;33m)\u001b[0m\u001b[1;33m:\u001b[0m\u001b[1;33m\u001b[0m\u001b[1;33m\u001b[0m\u001b[0m\n\u001b[0m\u001b[0;32m      2\u001b[0m     \u001b[0mX_scaled\u001b[0m \u001b[1;33m=\u001b[0m \u001b[0mscale_data\u001b[0m\u001b[1;33m(\u001b[0m\u001b[0mX\u001b[0m\u001b[1;33m)\u001b[0m\u001b[1;33m\u001b[0m\u001b[1;33m\u001b[0m\u001b[0m\n\u001b[0;32m      3\u001b[0m     \u001b[0mbest_feature_selection\u001b[0m \u001b[1;33m=\u001b[0m \u001b[1;32mNone\u001b[0m\u001b[1;33m\u001b[0m\u001b[1;33m\u001b[0m\u001b[0m\n\u001b[0;32m      4\u001b[0m     \u001b[0mbest_mae\u001b[0m \u001b[1;33m=\u001b[0m \u001b[0mfloat\u001b[0m\u001b[1;33m(\u001b[0m\u001b[1;34m'inf'\u001b[0m\u001b[1;33m)\u001b[0m\u001b[1;33m\u001b[0m\u001b[1;33m\u001b[0m\u001b[0m\n\u001b[0;32m      5\u001b[0m     \u001b[0mbest_cv_method\u001b[0m \u001b[1;33m=\u001b[0m \u001b[1;32mNone\u001b[0m\u001b[1;33m\u001b[0m\u001b[1;33m\u001b[0m\u001b[0m\n",
      "\u001b[1;31mNameError\u001b[0m: name 'feature_selection_funcs' is not defined"
     ]
    }
   ],
   "source": [
    "#16\n",
    "def build(X, y, hyperparameters_list, cv_methods, input_steps, output_steps, feature_selection_funcs=feature_selection_funcs(), metric=calculate_metric):\n",
    "    # Scale the input data using the `scale_data` function\n",
    "    X_scaled = scale_data(X)\n",
    "    \n",
    "    # Initialize variables to store the best feature selection function, mean absolute error, cross-validation method, model, training history, and hyperparameters\n",
    "    best_feature_selection = None\n",
    "    best_mae = float('inf')\n",
    "    best_cv_method = None\n",
    "    best_model = None\n",
    "    best_history = None\n",
    "    best_hyperparams = None\n",
    "\n",
    "    # Loop through all hyperparameter combinations and cross validation methods\n",
    "    for hyperparams in hyperparameters_list:\n",
    "        for cv_method_name, cv_method in cv_methods.items():\n",
    "            try:\n",
    "                # Loop through all feature selection functions\n",
    "                for feature_selection_func in feature_selection_funcs:\n",
    "                    X_filtered = X_scaled\n",
    "                    \n",
    "                    # If a feature selection function is specified, use it to filter the input data\n",
    "                    if feature_selection_func is not None:\n",
    "                        X_filtered = feature_selection_func(X_scaled, threshold_options[hyperparams['threshold']][0])\n",
    "\n",
    "                    # Split the filtered data into training and testing sets using time series cross-validation\n",
    "                    tscv = TimeSeriesSplit(n_splits=5)\n",
    "                    X_df = pd.DataFrame(X_filtered, columns=[\"col\"+str(i) for i in range(X_filtered.shape[1])])  # Convert X_filtered to a DataFrame with column names\n",
    "                    for train_index, test_index in tscv.split(X_df):\n",
    "                        train_data, test_data = X_df.iloc[train_index], X_df.iloc[test_index]\n",
    "                        train_target, test_target = y.iloc[train_index], y.iloc[test_index]\n",
    "\n",
    "                        # Prepare input data for LSTM by creating supervised data\n",
    "                        train_data_with_target = pd.concat([train_data, train_target], axis=1)\n",
    "                        test_data_with_target = pd.concat([test_data, test_target], axis=1)\n",
    "\n",
    "                        X_train, y_train = to_supervised(train_data_with_target, input_steps, output_steps)\n",
    "                        X_test, y_test = to_supervised(test_data_with_target, input_steps, output_steps)\n",
    "\n",
    "                        # Create and train LSTM model using `create_lstm_model` function\n",
    "                        model, history = create_lstm_model(X_train, y_train, X_test, y_test, input_steps, output_steps, hyperparams['lstm_units'], hyperparams['batch_size'], hyperparams['epochs'], hyperparams['learning_rate'], hyperparams['regularization'], hyperparams['dropout'], hyperparams['early_stopping_patience'], hyperparams['activation'], hyperparams['data_augmentation'], hyperparams['ensembling'], hyperparams['pruning'])\n",
    "\n",
    "                        # Evaluate the trained model on test set using the chosen metric\n",
    "                        mae = metric(y_test, model.predict(X_test))\n",
    "\n",
    "                        # Check if the current model is the best so far\n",
    "                        if mae < best_mae:\n",
    "                            best_mae = mae\n",
    "                            best_feature_selection = feature_selection_func\n",
    "                            best_cv_method = cv_method_name\n",
    "                            best_model = model\n",
    "                            best_history = history\n",
    "                            best_hyperparams = hyperparams\n",
    "\n",
    "            # If an error occurs while training the model for a particular hyperparameter combination, skip to the next one\n",
    "            except Exception as e:\n",
    "                print(f\"Error with combination: {hyperparams} - {cv_method_name} - {feature_selection_func}\")\n",
    "                print(str(e))\n",
    "\n",
    "    # Return the best feature selection function, mean absolute error, cross-validation method, model, training history, and hyperparameters\n",
    "    return best_feature_selection, best_mae, best_cv_method\n"
   ]
  },
  {
   "cell_type": "markdown",
   "id": "5dde3251",
   "metadata": {},
   "source": [
    "#### to_supervised(data, input_steps, output_steps):\n",
    "\n",
    "Arguments:\n",
    "* data: input time series data\n",
    "* input_steps: number of time steps to use as input features\n",
    "* output_steps: number of time steps to use as output targets\n",
    "\n",
    "Returns:\n",
    "* X: input features in the proper shape for LSTM training\n",
    "* y: output targets in the proper shape for LSTM training"
   ]
  },
  {
   "cell_type": "code",
   "execution_count": 142,
   "id": "e86d5011",
   "metadata": {},
   "outputs": [],
   "source": [
    "#8\n",
    "def to_supervised(data, input_steps, output_steps):\n",
    "    \n",
    "    #Convert time series data to supervised learning format.\n",
    "    \n",
    "    # Check that input_steps and output_steps are valid\n",
    "    if not isinstance(input_steps, int) or not isinstance(output_steps, int) or input_steps <= 0 or output_steps <= 0:\n",
    "        raise ValueError(\"Input steps and output steps must be positive integers.\")\n",
    "    \n",
    "    # Initialize empty lists for input and output data\n",
    "    X, y = [], []\n",
    "    \n",
    "    # Loop through the data to create input/output pairs\n",
    "    for i in range(len(data)-input_steps-output_steps+1):\n",
    "        # Append input data for current time step\n",
    "        X.append(data[i:i+input_steps])\n",
    "        # Append output data for current time step\n",
    "        y.append(data[i+input_steps:i+input_steps+output_steps])\n",
    "    \n",
    "    # Convert lists to numpy arrays\n",
    "    X = np.array(X)\n",
    "    y = np.array(y)\n",
    "    \n",
    "    return X, y"
   ]
  },
  {
   "cell_type": "markdown",
   "id": "b3db2317",
   "metadata": {},
   "source": [
    "#### create_lstm_model(X_train, y_train, X_val, y_val, input_steps, output_steps, n_units, batch_size, epochs, learning_rate, reg, do, es_patience, activations, optimizers, data_aug, ens, prune):\n",
    "\n",
    "Arguments:\n",
    "\n",
    "* X_train: numpy array of shape (n_samples, input_steps, n_features), training data input\n",
    "* y_train: numpy array of shape (n_samples, output_steps, 1), training data output\n",
    "* X_val: numpy array of shape (n_samples, input_steps, n_features), validation data input\n",
    "* y_val: numpy array of shape (n_samples, output_steps, 1), validation data output\n",
    "* input_steps: int, number of input time steps\n",
    "* output_steps: int, number of output time steps\n",
    "* n_units: int, number of LSTM units\n",
    "* batch_size: int, size of each batch\n",
    "* epochs: int, number of epochs for training the model\n",
    "* learning_rate: float, learning rate for optimization algorithm\n",
    "* reg: float, regularization coefficient\n",
    "* do: float, dropout rate\n",
    "* es_patience: int, number of epochs to wait before early stopping if no improvement is seen on the validation set\n",
    "* activations: string, activation function for LSTM layers\n",
    "* optimizers: string, optimization algorithm\n",
    "* data_aug: boolean, whether to use data augmentation\n",
    "* ens: boolean, whether to use ensembling\n",
    "* prune: boolean, whether to use pruning\n",
    "\n",
    "Returns:\n",
    "\n",
    "* best_model: keras model, trained LSTM model with the best hyperparameters\n",
    "* val_losses: list of float, validation losses for each hyperparameter set\n"
   ]
  },
  {
   "cell_type": "code",
   "execution_count": 140,
   "id": "be2f512a",
   "metadata": {},
   "outputs": [],
   "source": [
    "#13\n",
    "def create_lstm_model(X_train, y_train, X_val, y_val, input_steps, output_steps, n_units, batch_size, epochs, learning_rate, reg, do, es_patience, activations, optimizers, data_aug, ens, prune):\n",
    "    # Initialize variables to store the best hyperparameters and model\n",
    "    val_losses = []         # A list to store validation losses for each combination of hyperparameters\n",
    "    best_val_loss = np.inf  # The best validation loss observed so far\n",
    "    best_model = None       # The best model observed so far\n",
    "    best_activation = None  # The activation function that resulted in the best model\n",
    "    best_optimizer = None   # The optimizer that resulted in the best model\n",
    "\n",
    "    # Loop through all combinations of activations and optimizers\n",
    "    for activation in activations:\n",
    "        for optimizer in optimizers:\n",
    "            try:\n",
    "                # Instantiate the model\n",
    "                model = Sequential()\n",
    "\n",
    "                # Add LSTM layer\n",
    "                model.add(LSTM(n_units, activation=activation, input_shape=(input_steps, X_train.shape[2]), kernel_regularizer=keras.regularizers.l2(reg)))\n",
    "\n",
    "                # Add dropout layer if the dropout rate is greater than 0\n",
    "                if do > 0:\n",
    "                    model.add(Dropout(do))\n",
    "\n",
    "                model.add(Dense(output_steps))\n",
    "\n",
    "                # Compile the model\n",
    "                model.compile(optimizer=optimizer(learning_rate=learning_rate), loss='mae')\n",
    "\n",
    "                # Set up early stopping callback\n",
    "                es = EarlyStopping(monitor='val_loss', mode='min', verbose=1, patience=es_patience)\n",
    "                callbacks = [es]\n",
    "\n",
    "                # Train the model with or without data augmentation\n",
    "                if data_aug:\n",
    "                    datagen = TimeseriesGenerator(X_train, y_train, length=input_steps, batch_size=batch_size)\n",
    "                    history = model.fit_generator(datagen, epochs=epochs, verbose=1, validation_data=(X_val, y_val), callbacks=callbacks)\n",
    "                else:\n",
    "                    history = model.fit(X_train, y_train, epochs=epochs, batch_size=batch_size, verbose=1, validation_data=(X_val, y_val), callbacks=callbacks)\n",
    "\n",
    "                # Implement ensembling and pruning methods if specified\n",
    "                if ens:\n",
    "                    # Implement ensembling method here\n",
    "                    pass\n",
    "\n",
    "                if prune:\n",
    "                    # Implement pruning method here\n",
    "                    pass\n",
    "\n",
    "                # Evaluate the model on the validation set\n",
    "                y_pred = model.predict(X_val)\n",
    "                val_mae = mean_absolute_error(y_val, y_pred)\n",
    "                val_losses.append(val_mae)\n",
    "\n",
    "                # Update best model if validation loss improves\n",
    "                if val_mae < best_val_loss:\n",
    "                    best_val_loss = val_mae\n",
    "                    best_model = model\n",
    "                    best_activation = activation\n",
    "                    best_optimizer = optimizer.__name__\n",
    "                \n",
    "            except ValueError:\n",
    "                # Incompatible combination of activation and optimizer\n",
    "                continue\n",
    "\n",
    "    # Print best hyperparameters\n",
    "    print('Selected hyperparameters:')\n",
    "    print('Activation: ', best_activation)\n",
    "    print('Optimizer: ', best_optimizer)\n",
    "    print('Learning rate: ', learning_rate)\n",
    "\n",
    "    # Return best model and validation losses\n",
    "    return best_model, val_losses"
   ]
  },
  {
   "cell_type": "markdown",
   "id": "1e87a676",
   "metadata": {},
   "source": [
    "#### train_and_evaluate_model(X_train_cv, y_train_cv, X_val_cv, y_val_cv, hyperparams, input_steps, output_steps, metric):\n",
    "\n",
    "Arguments:\n",
    "\n",
    "* X_train_cv: numpy array of shape (n_samples, input_steps, n_features), training data input\n",
    "* y_train_cv: numpy array of shape (n_samples, output_steps, 1), training data output\n",
    "* X_val_cv: numpy array of shape (n_samples, input_steps, n_features), validation data input\n",
    "* y_val_cv: numpy array of shape (n_samples, output_steps, 1), validation data output\n",
    "* hyperparams: dictionary, hyperparameters for LSTM model\n",
    "* input_steps: int, number of input time steps\n",
    "* output_steps: int, number of output time steps\n",
    "* metric: function, evaluation metric function\n",
    "\n",
    "Returns:\n",
    "\n",
    "* val_mae: float, validation mean absolute error of the model\n",
    "* model: keras model, trained LSTM model with the best hyperparameters\n",
    "* history: keras history object, training history of the model"
   ]
  },
  {
   "cell_type": "code",
   "execution_count": 143,
   "id": "409a962d",
   "metadata": {},
   "outputs": [],
   "source": [
    "#15\n",
    "def train_and_evaluate_model(X_train_cv, y_train_cv, X_val_cv, y_val_cv, hyperparams, input_steps, output_steps, metric):\n",
    "    model = create_lstm_model(X_train_cv, y_train_cv, X_val_cv, y_val_cv, input_steps, output_steps, hyperparams['lstm_units'], hyperparams['batch_size'], hyperparams['epochs'], hyperparams['learning_rate'], hyperparams['regularization'], hyperparams['dropout'], hyperparams['early_stopping_patience'], hyperparams['activation'], hyperparams['data_augmentation'], hyperparams['ensembling'], hyperparams['pruning'])\n",
    "    model.compile(loss='mean_absolute_error', optimizer=optimizers.Adam(lr=hyperparams['learning_rate']), metrics=[metric])\n",
    "    y_pred = model.predict(X_val_cv)\n",
    "\n",
    "    # Replace NaN and infinity values in y_pred\n",
    "    y_pred_clean = np.nan_to_num(y_pred)\n",
    "\n",
    "    # Reshape y_val_cv and y_pred_clean to 2D arrays\n",
    "    y_val_cv_2d = y_val_cv.reshape(-1, output_steps)\n",
    "    y_pred_clean_2d = y_pred_clean.reshape(-1, output_steps)\n",
    "\n",
    "    val_mae = mean_absolute_error(y_val_cv_2d, y_pred_clean_2d)\n",
    "    return val_mae, model, history"
   ]
  },
  {
   "cell_type": "markdown",
   "id": "5e8828c0",
   "metadata": {},
   "source": [
    "#### cross_validate(X_filtered, y, hyperparams, cv_method_name, cv_method, input_steps, output_steps, metric):\n",
    "\n",
    "Arguments:\n",
    "\n",
    "* X_filtered: numpy array of shape (n_samples, n_features), input data after feature selection\n",
    "* y: numpy array of shape (n_samples, output_steps, 1), output data\n",
    "* hyperparams: dictionary, hyperparameters for LSTM model\n",
    "* cv_method_name: string, name of cross-validation method\n",
    "* cv_method: object, cross-validation object\n",
    "* input_steps: int, number of input time steps\n",
    "* output_steps: int, number of output time steps\n",
    "* metric: function, evaluation metric function\n",
    "\n",
    "Returns:\n",
    "\n",
    "* avg_val_loss: float, average validation loss across all folds\n",
    "* model: keras model, trained LSTM model with the best hyperparameters\n",
    "* history: keras history object, training history of the model"
   ]
  },
  {
   "cell_type": "code",
   "execution_count": null,
   "id": "46a6a10f",
   "metadata": {},
   "outputs": [],
   "source": [
    "#14\n",
    "def cross_validate(X_filtered, y, hyperparams, cv_method_name, cv_method, input_steps, output_steps, metric):\n",
    "    mae_list = []\n",
    "    model_list = []\n",
    "    history_list = []\n",
    "    \n",
    "    try:\n",
    "        for i, (train_idx, val_idx) in enumerate(cv_method.split(X_filtered)):\n",
    "            X_train_cv, X_val_cv = X_filtered[train_index], X_filtered[val_index]\n",
    "            y_train_cv, y_val_cv = np.array(y)[train_index], np.array(y)[val_index]\n",
    "\n",
    "            # Prepare input data for LSTM\n",
    "            train_data_with_target = pd.concat([pd.DataFrame(X_train_cv), pd.DataFrame(y_train_cv)], axis=1)\n",
    "            val_data_with_target = pd.concat([pd.DataFrame(X_val_cv), pd.DataFrame(y_val_cv)], axis=1)\n",
    "\n",
    "            X_train_cv, y_train_cv = to_supervised(train_data_with_target, input_steps, output_steps)\n",
    "            X_val_cv, y_val_cv = to_supervised(val_data_with_target, input_steps, output_steps)\n",
    "\n",
    "            # Train and evaluate the model\n",
    "            mae, model, history = train_and_evaluate_model(X_train_cv, y_train_cv, X_val_cv, y_val_cv, hyperparams, input_steps, output_steps, metric)\n",
    "            mae_list.append(mae)\n",
    "            model_list.append(model)\n",
    "            history_list.append(history)\n",
    "        \n",
    "        \n",
    "    except:\n",
    "        print(f\"{cv_method_name}: Is incompatible with the model. Removing from consideration.\")\n",
    "        avg_val_loss = np.inf\n",
    "\n",
    "    # Calculate average validation loss across all folds\n",
    "    avg_val_loss = np.mean(mae_list)\n",
    "\n",
    "    # Return average validation loss, best model, and training history\n",
    "    return avg_val_loss, model_list[np.argmin(mae_list)], history_list[np.argmin(mae_list)]"
   ]
  },
  {
   "cell_type": "markdown",
   "id": "69fb5113",
   "metadata": {},
   "source": [
    "#### fit_lstm(lstm_units, batch_size, epochs, learning_rate, regularization, threshold, dropout, early_stopping_patience, activation, data_augmentation, ensembling, pruning, metric=calculate_metric):\n",
    "\n",
    "Arguments:\n",
    "* lstm_units: number of LSTM units\n",
    "* batch_size: batch size for training\n",
    "* epochs: number of epochs to train for\n",
    "* learning_rate: learning rate for the optimizer\n",
    "* regularization: regularization strength for L1 and L2 regularization\n",
    "* threshold: threshold for pruning\n",
    "* dropout: dropout rate\n",
    "* early_stopping_patience: patience for early stopping\n",
    "* activation: activation function for the LSTM units\n",
    "* data_augmentation: whether to use data augmentation or not\n",
    "* ensembling: whether to use ensembling or not\n",
    "* pruning: whether to use pruning or not\n",
    "* metric: evaluation metric function (default is calculate_metric)\n",
    "\n",
    "Returns:\n",
    "* best_model: trained LSTM model with best hyperparameters\n",
    "* history: training history of the best model\n",
    "* train_metric: training metric of the best model\n",
    "* val_metric: validation metric of the best model"
   ]
  },
  {
   "cell_type": "code",
   "execution_count": null,
   "id": "dab02e6e",
   "metadata": {},
   "outputs": [],
   "source": [
    "#14\n",
    "def fit_lstm(lstm_units, batch_size, epochs, learning_rate, regularization, threshold, dropout, early_stopping_patience, activation, data_augmentation, ensembling, pruning, metric=calculate_metric):\n",
    "    val_losses = []\n",
    "    best_val_loss = float('inf')\n",
    "    best_model = None\n",
    "    best_hyperparams = None\n",
    "\n",
    "    for hyperparams in hyperparameters_list:\n",
    "        try:\n",
    "            model, history = create_lstm_model(X_train_cv, y_train_cv, X_val_cv, y_val_cv, input_steps, output_steps, lstm_units, batch_size, epochs, learning_rate, regularization, dropout, early_stopping_patience, activation, data_augmentation, ensembling, pruning)\n",
    "            model.compile(loss='mean_absolute_error', optimizer=optimizers.Adam(lr=learning_rate), metrics=[metric])\n",
    "            val_loss = metric(y_val_cv, model.predict(X_val_cv))\n",
    "\n",
    "            if val_loss < best_val_loss:\n",
    "                best_val_loss = val_loss\n",
    "                best_model = model\n",
    "                best_hyperparams = hyperparams\n",
    "\n",
    "            val_losses.append(val_loss)\n",
    "            print('Validation loss:', val_loss)\n",
    "            print('Hyperparameters:', hyperparams)\n",
    "        except:\n",
    "            print('Error with hyperparameters:', hyperparams)\n",
    "\n",
    "    print('Selected hyperparameters:', best_hyperparams)\n",
    "    print('Best validation loss:', best_val_loss)\n",
    "\n",
    "    y_pred_train = best_model.predict(X_train_cv)\n",
    "    y_pred_val = best_model.predict(X_val_cv)\n",
    "    train_metric = metric(y_train_cv, y_pred_train)\n",
    "    val_metric = metric(y_val_cv, y_pred_val)\n",
    "\n",
    "    return best_model, history, train_metric, val_metric"
   ]
  },
  {
   "cell_type": "markdown",
   "id": "0a13284b",
   "metadata": {},
   "source": [
    "### Functions for SubProcesses"
   ]
  },
  {
   "cell_type": "markdown",
   "id": "bea42704",
   "metadata": {},
   "source": [
    "#### select_features_rfe(X_train, y_train, X_test):\n",
    "\n",
    "Arguments:\n",
    "* X_train: training data features\n",
    "* y_train: training data targets\n",
    "* X_test: testing data features\n",
    "    \n",
    "Returns:\n",
    "* X_train_rfe: training data features after feature selection\n",
    "* X_test_rfe: testing data features after feature selection\n",
    "* rfe: the RFE object that was used for feature selection"
   ]
  },
  {
   "cell_type": "code",
   "execution_count": null,
   "id": "a41efbd8",
   "metadata": {},
   "outputs": [],
   "source": [
    "#11\n",
    "# Feature Selection Function Using Recursive Feature Elimination\n",
    "def select_features_rfe(X_train, y_train, X_test):\n",
    "    # Create RFE object with a RandomForestRegressor estimator and select 4 features\n",
    "    rfe = RFE(estimator=RandomForestRegressor(), n_features_to_select=4)\n",
    "    rfe.fit(X_train, y_train)\n",
    "    # Transform X_train and X_test to include only selected features\n",
    "    X_train_rfe = rfe.transform(X_train)\n",
    "    X_test_rfe = rfe.transform(X_test)\n",
    "    return X_train_rfe, X_test_rfe, rfe"
   ]
  },
  {
   "cell_type": "markdown",
   "id": "1296d2b1",
   "metadata": {},
   "source": [
    "#### select_features_sfs(X_train, y_train, X_test, n_features_to_select):\n",
    "\n",
    "Arguments:\n",
    "* X_train: training data features\n",
    "* y_train: training data targets\n",
    "* X_test: testing data features\n",
    "* n_features_to_select: number of features to select\n",
    "\n",
    "Returns:\n",
    "* X_train_sfs: training data features after feature selection\n",
    "* X_test_sfs: testing data features after feature selection\n",
    "* sfs: the SFS object that was used for feature selection"
   ]
  },
  {
   "cell_type": "code",
   "execution_count": null,
   "id": "756c23b2",
   "metadata": {},
   "outputs": [],
   "source": [
    "#10\n",
    "# Feature Selection Using Sequential Feature Selection\n",
    "def select_features_sfs(X_train, y_train, X_test, n_features_to_select):\n",
    "    # Create SFS object with a RandomForestRegressor estimator and select n_features_to_select features\n",
    "    sfs = SequentialFeatureSelector(estimator=RandomForestRegressor(), n_features_to_select=n_features_to_select)\n",
    "    sfs.fit(X_train, y_train)\n",
    "    # Transform X_train and X_test to include only selected features\n",
    "    X_train_sfs = sfs.transform(X_train)\n",
    "    X_test_sfs = sfs.transform(X_test)\n",
    "    return X_train_sfs, X_test_sfs, sfs"
   ]
  },
  {
   "cell_type": "markdown",
   "id": "4104c802",
   "metadata": {},
   "source": [
    "#### feature_selection_correlation(X, threshold, method='pearson'):\n",
    "\n",
    "Arguments:\n",
    "* X: input features\n",
    "* threshold: correlation threshold\n",
    "* method: correlation method to use (default is 'pearson')\n",
    "\n",
    "Returns:\n",
    "* X_filtered: input features with low-correlation features removed"
   ]
  },
  {
   "cell_type": "code",
   "execution_count": 147,
   "id": "95f93298",
   "metadata": {},
   "outputs": [],
   "source": [
    "#9\n",
    "def feature_selection_correlation(X, threshold, method='pearson'):\n",
    "    c_thresholds = [0.1, 0.3, 0.5]\n",
    "    best_threshold = 0\n",
    "    best_columns = None\n",
    "\n",
    "    if method == 'pearson':\n",
    "        X_array = np.array(X)\n",
    "        # Compute the correlation matrix while handling potential division by zero\n",
    "        stddev = np.std(X_array, axis=0, ddof=1)\n",
    "        X_array_norm = (X_array - np.mean(X_array, axis=0)) / (stddev.reshape(1, -1) + 1e-8)\n",
    "        corr_matrix = np.dot(X_array_norm.T, X_array_norm) / (X_array_norm.shape[0] - 1)\n",
    "    else:\n",
    "        raise ValueError(\"Invalid method. Only 'pearson' is supported.\")\n",
    "\n",
    "    # Loop through each threshold and select the features with correlation above that threshold\n",
    "    for c_threshold in c_thresholds:\n",
    "        columns = np.full((corr_matrix.shape[0],), True, dtype=bool)\n",
    "        for i in range(corr_matrix.shape[0]):\n",
    "            for j in range(i+1, corr_matrix.shape[0]):\n",
    "                if corr_matrix[i, j] >= c_threshold:\n",
    "                    if columns[j]:\n",
    "                        columns[j] = False\n",
    "\n",
    "        # Check if the current threshold results in a better set of columns than the previous best\n",
    "        if best_columns is None or sum(columns) > sum(best_columns):\n",
    "            best_threshold = c_threshold\n",
    "            best_columns = columns\n",
    "\n",
    "    # Use the best set of columns found\n",
    "    X = X[:, best_columns]\n",
    "    X_filtered = X_array[:, best_columns]\n",
    "    return X_filtered"
   ]
  },
  {
   "cell_type": "markdown",
   "id": "a3a275bc",
   "metadata": {},
   "source": [
    "Using a class to instantiate an object with a test size parameter and call the split method to split the data into training and testing sets.\n",
    "Importing train_test_split from sklearn.model_selection created inconsistencies while passing data through so many functions."
   ]
  },
  {
   "cell_type": "code",
   "execution_count": 135,
   "id": "104a9a8c",
   "metadata": {},
   "outputs": [],
   "source": [
    "#4\n",
    "class HoldoutMethod:\n",
    "    def __init__(self, test_size=0.2):\n",
    "        self.test_size = test_size\n",
    "    \n",
    "    # Method for splitting the data into train and test sets using the Hold Out method\n",
    "    def split(self, X):\n",
    "        n_samples = X.shape[0]\n",
    "        n_test = int(self.test_size * n_samples)\n",
    "        test_indices = np.random.choice(n_samples, n_test, replace=False)\n",
    "        train_indices = np.setdiff1d(np.arange(n_samples), test_indices)\n",
    "        # Returns a list containing tuples of train and test indices\n",
    "        return [(train_indices, test_indices)]"
   ]
  },
  {
   "cell_type": "markdown",
   "id": "8461f9d9",
   "metadata": {},
   "source": [
    "### Functions to Define Values"
   ]
  },
  {
   "cell_type": "markdown",
   "id": "6ca87180",
   "metadata": {},
   "source": [
    "#### generate_hyperparameters_list()\n",
    "\n",
    "Arguments:\n",
    "None\n",
    "\n",
    "Returns: \n",
    "A list of dictionaries, where each dictionary contains hyperparameters for training an LSTM model. The hyperparameters include the number of LSTM units, batch size, number of epochs, learning rate, regularization strength, dropout rate, early stopping patience, activation function, optimizer, threshold for feature selection, data augmentation flag, ensembling flag, and pruning flag. Each dictionary also includes input and output steps, which are both set to 24."
   ]
  },
  {
   "cell_type": "code",
   "execution_count": null,
   "id": "aa8c7507",
   "metadata": {},
   "outputs": [],
   "source": [
    "#2\n",
    "def generate_hyperparameters_list() -> List[dict]:\n",
    "    # Dictionary of hyperparameter options, with keys as the names of the hyperparameters\n",
    "    # and values as arrays of possible values\n",
    "    hyperparameters_options = {\n",
    "        'lstm_units': [32, 64, 128],\n",
    "        'batch_size': [32, 64],\n",
    "        'epochs': [50, 100],\n",
    "        'learning_rate': [0.001, 0.01, 0.1],\n",
    "        'regularization': [0.001, 0.01, 0.1],\n",
    "        'dropout': [0, 0.1, 0.2, 0.3],\n",
    "        'early_stopping_patience': [5, 10, 15],\n",
    "        'activation': ['relu', 'sigmoid', 'tanh'],\n",
    "        'optimizer': [keras.optimizers.Adam, keras.optimizers.SGD, keras.optimizers.RMSprop],\n",
    "        'threshold': [0.1, 0.5, 0.9],\n",
    "        'data_augmentation': [False, True],\n",
    "        'ensembling': [False, True],\n",
    "        'pruning': [False, True]\n",
    "    }\n",
    "    # Unzip the dictionary to get separate lists of hyperparameter names and possible values\n",
    "    keys, values = zip(*hyperparameters_options.items())\n",
    "    # Get all possible combinations of hyperparameter values and create a list of dictionaries\n",
    "    hyperparameters_list = [dict(zip(keys, v)) for v in itertools.product(*values)]\n",
    "\n",
    "    # Add input and output steps hyperparameters to the dictionary for the LSTM model\n",
    "    for hyperparams in hyperparameters_list:\n",
    "        hyperparams['input_steps'] = 24\n",
    "        hyperparams['output_steps'] = 24\n",
    "\n",
    "    return hyperparameters_list"
   ]
  },
  {
   "cell_type": "markdown",
   "id": "65a83163",
   "metadata": {},
   "source": [
    "#### find_best_hyperparameters(results):\n",
    "\n",
    "Arguments:\n",
    "* results: dictionary of results from the cross-validation step\n",
    "\n",
    "Returns:\n",
    "* best_result: the hyperparameters with the best performance in cross-validation"
   ]
  },
  {
   "cell_type": "code",
   "execution_count": null,
   "id": "fbd77d90",
   "metadata": {},
   "outputs": [],
   "source": [
    "#17\n",
    "def find_best_hyperparameters(results):\n",
    "    # Sort the results list by val_loss (in ascending order) and return the first (best) result\n",
    "    best_result = sorted(results, key=lambda x: x['val_loss'])[0]\n",
    "    print('Best hyperparameters:', best_result)\n",
    "    \n",
    "    return best_result"
   ]
  },
  {
   "cell_type": "code",
   "execution_count": null,
   "id": "5b0a720c",
   "metadata": {},
   "outputs": [],
   "source": [
    "#7\n",
    "#Function to calculate MAE\n",
    "def mae_metric(y_true, y_pred):\n",
    "'''\n",
    "MAE = 1/n * Σ|y_pred - y_true|\n",
    "n = samples\n",
    "1/n = fraction for each value in dataset = mean\n",
    "|y_pred - y_true| = absolute difference between y predictions and y true values\n",
    "Σ = sum of absolute difference\n",
    "'''\n",
    "    return np.mean(np.abs(y_pred - y_true))"
   ]
  },
  {
   "cell_type": "code",
   "execution_count": null,
   "id": "68d3a4fc",
   "metadata": {},
   "outputs": [],
   "source": [
    "#6\n",
    "#Function to calculate a metric\n",
    "def calculate_metric(y_true, y_pred):\n",
    "    # Change this function to calculate a different metric if desired by importing the metric or defining a new metric function\n",
    "    return mean_absolute_error(y_true, y_pred)"
   ]
  },
  {
   "cell_type": "markdown",
   "id": "5c0ebfc7",
   "metadata": {},
   "source": [
    "### Manually Assigning Values"
   ]
  },
  {
   "cell_type": "code",
   "execution_count": 134,
   "id": "ccd5fc63",
   "metadata": {},
   "outputs": [],
   "source": [
    "#1\n",
    "input_steps = 24 # Use the past 24 hours of data\n",
    "output_steps = 24 # Predict the next 24 hours of data"
   ]
  },
  {
   "cell_type": "code",
   "execution_count": null,
   "id": "4cd928e4",
   "metadata": {},
   "outputs": [],
   "source": [
    "#3\n",
    "#Generate the hyperparameters list\n",
    "hyperparameters_list = generate_hyperparameters_list()"
   ]
  },
  {
   "cell_type": "code",
   "execution_count": 138,
   "id": "33707c0d",
   "metadata": {},
   "outputs": [
    {
     "ename": "NameError",
     "evalue": "name 'feature_selection_correlation' is not defined",
     "output_type": "error",
     "traceback": [
      "\u001b[1;31m---------------------------------------------------------------------------\u001b[0m",
      "\u001b[1;31mNameError\u001b[0m                                 Traceback (most recent call last)",
      "\u001b[1;32m~\\AppData\\Local\\Temp\\ipykernel_3256\\2499866564.py\u001b[0m in \u001b[0;36m<module>\u001b[1;34m\u001b[0m\n\u001b[0;32m      1\u001b[0m \u001b[1;31m#Assigning a list of the feature selection methods to test\u001b[0m\u001b[1;33m\u001b[0m\u001b[1;33m\u001b[0m\u001b[0m\n\u001b[1;32m----> 2\u001b[1;33m \u001b[0mfeature_selection_funcs\u001b[0m \u001b[1;33m=\u001b[0m \u001b[1;33m[\u001b[0m\u001b[0mfeature_selection_correlation\u001b[0m\u001b[1;33m,\u001b[0m \u001b[0mselect_features_sfs\u001b[0m\u001b[1;33m,\u001b[0m \u001b[0mselect_features_rfe\u001b[0m\u001b[1;33m]\u001b[0m\u001b[1;33m\u001b[0m\u001b[1;33m\u001b[0m\u001b[0m\n\u001b[0m",
      "\u001b[1;31mNameError\u001b[0m: name 'feature_selection_correlation' is not defined"
     ]
    }
   ],
   "source": [
    "#12\n",
    "#Assigning a list of the feature selection methods to test\n",
    "feature_selection_funcs = [feature_selection_correlation, select_features_sfs, select_features_rfe]"
   ]
  },
  {
   "cell_type": "code",
   "execution_count": 137,
   "id": "976f5d4a",
   "metadata": {},
   "outputs": [],
   "source": [
    "#5\n",
    "#Making an array of tuples for cross-validations to test [(1= Method, 2=Function called with splits assigned)]\n",
    "cv_methods = [('Holdout Method', HoldoutMethod(test_size=0.2)), ('K-Fold Cross-Validation', KFold(n_splits=5)), ('Stratified K-Fold Cross-Validation', StratifiedKFold(n_splits=5)), ('Leave-P-Out Cross-Validation', LeavePOut(p=5))]"
   ]
  },
  {
   "cell_type": "markdown",
   "id": "04cab44c",
   "metadata": {},
   "source": [
    "### Implementation"
   ]
  },
  {
   "cell_type": "code",
   "execution_count": null,
   "id": "4355086e",
   "metadata": {
    "scrolled": true
   },
   "outputs": [],
   "source": [
    "#Calling the build function to produce specs for the build\n",
    "best_hyperparams, best_mae, best_model, best_history, results = the_build(X, y, hyperparameters_list, cv_methods, input_steps, output_steps)"
   ]
  },
  {
   "cell_type": "code",
   "execution_count": null,
   "id": "c6d50b37",
   "metadata": {},
   "outputs": [],
   "source": [
    "# Print the best hyperparameters and MAE\n",
    "print(f\"\\nBest Hyperparameters: {best_hyperparams}\")\n",
    "print(f\"Best MAE: {best_mae}\")"
   ]
  },
  {
   "cell_type": "code",
   "execution_count": null,
   "id": "73b8b292",
   "metadata": {},
   "outputs": [],
   "source": [
    "# Split the data into training and validation sets\n",
    "train_size = int(0.8 * len(data))\n",
    "train, test = data[0:train_size], data[train_size:]"
   ]
  },
  {
   "cell_type": "markdown",
   "id": "0d0dbc5b",
   "metadata": {},
   "source": [
    "The Model"
   ]
  },
  {
   "cell_type": "code",
   "execution_count": null,
   "id": "be71d83a",
   "metadata": {},
   "outputs": [],
   "source": [
    "# Train the final model using the best hyperparameters on the full training set\n",
    "X_train, y_train = to_supervised(train, best_hyperparams['input_steps'], best_hyperparams['output_steps'])\n",
    "final_model, final_history = create_lstm_model(X_train, y_train, best_hyperparams['lstm_units'], best_hyperparams['batch_size'],\n",
    "                                               best_hyperparams['epochs'], best_hyperparams['learning_rate'],\n",
    "                                               best_hyperparams['regularization'], best_hyperparams['dropout'],\n",
    "                                               best_hyperparams['early_stopping_patience'], best_hyperparams['activation'],\n",
    "                                               best_hyperparams['data_augmentation'], best_hyperparams['ensembling'],\n",
    "                                               best_hyperparams['pruning'])"
   ]
  },
  {
   "cell_type": "markdown",
   "id": "447b9273",
   "metadata": {},
   "source": [
    "## 4. Model Evaluation:\n"
   ]
  },
  {
   "cell_type": "markdown",
   "id": "182c7c77",
   "metadata": {},
   "source": [
    "Testing"
   ]
  },
  {
   "cell_type": "code",
   "execution_count": null,
   "id": "d8fb2bc0",
   "metadata": {},
   "outputs": [],
   "source": [
    "# Evaluate the final model on the test set\n",
    "X_test, y_test = to_supervised(test, best_hyperparams['input_steps'], best_hyperparams['output_steps'])\n",
    "y_pred = final_model.predict(X_test)\n",
    "test_mae = mean_absolute_error(y_test, y_pred)\n",
    "print('Test MAE:', test_mae)"
   ]
  },
  {
   "cell_type": "markdown",
   "id": "c8ab87f9",
   "metadata": {},
   "source": [
    "Evaluate Preformance on the Testing Data"
   ]
  },
  {
   "cell_type": "markdown",
   "id": "d6eec80e",
   "metadata": {},
   "source": [
    "* Plotting Actual Vs. Predicted"
   ]
  },
  {
   "cell_type": "code",
   "execution_count": null,
   "id": "c7d8fc07",
   "metadata": {},
   "outputs": [],
   "source": [
    "conda install -c conda-forge plotnine\n",
    "conda install -c conda-forge gganimate"
   ]
  },
  {
   "cell_type": "code",
   "execution_count": null,
   "id": "06d4855d",
   "metadata": {},
   "outputs": [],
   "source": [
    "from plotnine import *\n",
    "from plotnine.data import mpg\n",
    "from ggplot import ggplot\n",
    "\n",
    "# Create a sample data frame with actual and predicted values\n",
    "data = pd.DataFrame({'time': range(len(y_test)), 'actual': y_test, 'predicted': y_pred.flatten()})\n",
    "\n",
    "# Create the ridge plot with actual and predicted values\n",
    "plot = (ggplot(data, aes(x='value', y='time', group='variable', fill='variable'))\n",
    "        + geom_density_ridges(alpha=0.5, scale=3, rel_min_height=0.03)\n",
    "        + scale_fill_manual(values=(\"#008080\", \"#FFA500\"))\n",
    "        + labs(x=\"Value\", y=\"Time\")\n",
    "        + ggtitle(\"Actual vs. Predicted Values\")\n",
    "        + transition_time(\"time\")\n",
    "        + ease_aes('linear'))\n",
    "\n",
    "# Save the animated plot as a gif\n",
    "anim = plot.animate(interval=100, nframes=len(y_test))\n",
    "anim.save('animated_ridge.gif', writer='imagemagick')"
   ]
  },
  {
   "cell_type": "code",
   "execution_count": null,
   "id": "25c399b3",
   "metadata": {},
   "outputs": [],
   "source": [
    "Evaluate the performance of the model on the testing data."
   ]
  },
  {
   "cell_type": "code",
   "execution_count": null,
   "id": "d01f3507",
   "metadata": {},
   "outputs": [],
   "source": [
    "# Evaluate the model with other metrics\n",
    "y_pred = model.predict(X_test)\n",
    "mse = mean_absolute_error(y_test, y_pred)\n",
    "print('Test MAE: %.3f' % mae)"
   ]
  },
  {
   "cell_type": "code",
   "execution_count": null,
   "id": "473cf5a6",
   "metadata": {},
   "outputs": [],
   "source": [
    "b. Evaluate the model's performance considering operational requirements (i.e., operating reserve requirements)."
   ]
  },
  {
   "cell_type": "markdown",
   "id": "d261edba",
   "metadata": {},
   "source": [
    "Conclusions and Insights"
   ]
  },
  {
   "cell_type": "markdown",
   "id": "e0d225a3",
   "metadata": {},
   "source": [
    "## 5. Model Deployment:\n",
    "The new model tested automatically the same way always, and the author is not able to affect that.\n",
    "Metrics calculated automatically. It’s a good idea to display them on some dashboard where everybody in the team can view it.\n",
    "Based on the successful testing Pull-request with a new model can be accepted to join develop-branch and proceed for the next step."
   ]
  },
  {
   "cell_type": "markdown",
   "id": "6c2382aa",
   "metadata": {},
   "source": [
    "\n",
    "c. PI Historian: PI Historian is a data archiving and management system developed by OSIsoft. It is designed to collect, store, and manage large volumes of time-series data from various sources, including SCADA systems, PLCs, or other sensors. PI Historian provides tools for data analysis, reporting, and visualization, enabling users to monitor and analyze historical and real-time data efficiently. In your project, PI Historian could be a source of historical weather data, as well as a system for archiving and managing the data used to train and evaluate your models.\n"
   ]
  },
  {
   "cell_type": "code",
   "execution_count": null,
   "id": "2e92ed8d",
   "metadata": {},
   "outputs": [],
   "source": [
    "4. A/B test\n",
    "3 steps above will allow you to gain you pretty good confidence in your new model. In some cases A/B test is not possible so you could stop on the shadow testing, some companies can afford to experiment with many different models at the same time, in that cases, shadow testing can be unnecessary and after testing on out-of-sample data model can be tested as part of A/B test."
   ]
  },
  {
   "cell_type": "code",
   "execution_count": null,
   "id": "05eb4326",
   "metadata": {},
   "outputs": [],
   "source": [
    "3. Stage testing / Shadow testing\n",
    "The next step is to test your model in the production-like environment. For example, we would deploy develop branch on the stage-server and make it run on the exact same data as production pipeline, the only difference would be that the end-user will not see the results of the develop-branch and results will be stored in the database. There are several questions you would wanna answer before running such an experiment, but the main one is:\n",
    "\n",
    "— “When do I stop that experiment?”\n",
    "\n",
    "Similar to A/B testing to answer that you need to figure out the effect size you expected to capture and statistical power.\n",
    "\n",
    "To make final conclusion about model quality I suggest you use a statistical test to protect yourself from being fulled by randomness, but keep in mind it’s not 100% robust."
   ]
  }
 ],
 "metadata": {
  "kernelspec": {
   "display_name": "Python 3 (ipykernel)",
   "language": "python",
   "name": "python3"
  },
  "language_info": {
   "codemirror_mode": {
    "name": "ipython",
    "version": 3
   },
   "file_extension": ".py",
   "mimetype": "text/x-python",
   "name": "python",
   "nbconvert_exporter": "python",
   "pygments_lexer": "ipython3",
   "version": "3.9.13"
  }
 },
 "nbformat": 4,
 "nbformat_minor": 5
}
