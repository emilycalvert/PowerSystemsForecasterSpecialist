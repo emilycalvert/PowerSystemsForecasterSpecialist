version https://git-lfs.github.com/spec/v1
oid sha256:77165feb509e0657abd3343f6282957338c91cd1fac69f0eae9b66cbf68f7830
size 33781287
